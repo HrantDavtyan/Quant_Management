{
 "cells": [
  {
   "cell_type": "code",
   "execution_count": 1,
   "metadata": {
    "collapsed": true
   },
   "outputs": [],
   "source": [
    "import numpy"
   ]
  },
  {
   "cell_type": "code",
   "execution_count": 2,
   "metadata": {
    "collapsed": false
   },
   "outputs": [
    {
     "data": {
      "text/plain": [
       "3.0"
      ]
     },
     "execution_count": 2,
     "metadata": {},
     "output_type": "execute_result"
    }
   ],
   "source": [
    "numpy.sqrt(9)"
   ]
  },
  {
   "cell_type": "code",
   "execution_count": 3,
   "metadata": {
    "collapsed": false
   },
   "outputs": [
    {
     "ename": "NameError",
     "evalue": "name 'log' is not defined",
     "output_type": "error",
     "traceback": [
      "\u001b[0;31m-------------------------------------------------------\u001b[0m",
      "\u001b[0;31mNameError\u001b[0m             Traceback (most recent call last)",
      "\u001b[0;32m<ipython-input-3-7dbe859c6902>\u001b[0m in \u001b[0;36m<module>\u001b[0;34m()\u001b[0m\n\u001b[0;32m----> 1\u001b[0;31m \u001b[0mlog\u001b[0m\u001b[1;33m(\u001b[0m\u001b[1;36m10\u001b[0m\u001b[1;33m)\u001b[0m\u001b[1;33m\u001b[0m\u001b[0m\n\u001b[0m",
      "\u001b[0;31mNameError\u001b[0m: name 'log' is not defined"
     ]
    }
   ],
   "source": [
    "log(10)"
   ]
  },
  {
   "cell_type": "code",
   "execution_count": 4,
   "metadata": {
    "collapsed": false
   },
   "outputs": [
    {
     "data": {
      "text/plain": [
       "2.3025850929940459"
      ]
     },
     "execution_count": 4,
     "metadata": {},
     "output_type": "execute_result"
    }
   ],
   "source": [
    "numpy.log(10)"
   ]
  },
  {
   "cell_type": "code",
   "execution_count": 5,
   "metadata": {
    "collapsed": true
   },
   "outputs": [],
   "source": [
    "import numpy as np"
   ]
  },
  {
   "cell_type": "code",
   "execution_count": 6,
   "metadata": {
    "collapsed": false
   },
   "outputs": [
    {
     "data": {
      "text/plain": [
       "3.2188758248682006"
      ]
     },
     "execution_count": 6,
     "metadata": {},
     "output_type": "execute_result"
    }
   ],
   "source": [
    "np.log(25)"
   ]
  },
  {
   "cell_type": "markdown",
   "metadata": {},
   "source": [
    "To install a library use the following command in CMD: pip install numpy"
   ]
  },
  {
   "cell_type": "code",
   "execution_count": 7,
   "metadata": {
    "collapsed": true
   },
   "outputs": [],
   "source": [
    "import pandas_datareader as web"
   ]
  },
  {
   "cell_type": "code",
   "execution_count": 8,
   "metadata": {
    "collapsed": true
   },
   "outputs": [],
   "source": [
    "data  = web.DataReader('IBM','google')"
   ]
  },
  {
   "cell_type": "code",
   "execution_count": 9,
   "metadata": {
    "collapsed": false
   },
   "outputs": [
    {
     "data": {
      "text/html": [
       "<div>\n",
       "<table border=\"1\" class=\"dataframe\">\n",
       "  <thead>\n",
       "    <tr style=\"text-align: right;\">\n",
       "      <th></th>\n",
       "      <th>Open</th>\n",
       "      <th>High</th>\n",
       "      <th>Low</th>\n",
       "      <th>Close</th>\n",
       "      <th>Volume</th>\n",
       "    </tr>\n",
       "    <tr>\n",
       "      <th>Date</th>\n",
       "      <th></th>\n",
       "      <th></th>\n",
       "      <th></th>\n",
       "      <th></th>\n",
       "      <th></th>\n",
       "    </tr>\n",
       "  </thead>\n",
       "  <tbody>\n",
       "    <tr>\n",
       "      <th>2010-01-04</th>\n",
       "      <td>131.18</td>\n",
       "      <td>132.97</td>\n",
       "      <td>130.85</td>\n",
       "      <td>132.45</td>\n",
       "      <td>6155846</td>\n",
       "    </tr>\n",
       "    <tr>\n",
       "      <th>2010-01-05</th>\n",
       "      <td>131.68</td>\n",
       "      <td>131.85</td>\n",
       "      <td>130.10</td>\n",
       "      <td>130.85</td>\n",
       "      <td>6842471</td>\n",
       "    </tr>\n",
       "    <tr>\n",
       "      <th>2010-01-06</th>\n",
       "      <td>130.68</td>\n",
       "      <td>131.49</td>\n",
       "      <td>129.81</td>\n",
       "      <td>130.00</td>\n",
       "      <td>5605290</td>\n",
       "    </tr>\n",
       "    <tr>\n",
       "      <th>2010-01-07</th>\n",
       "      <td>129.87</td>\n",
       "      <td>130.25</td>\n",
       "      <td>128.91</td>\n",
       "      <td>129.55</td>\n",
       "      <td>5840569</td>\n",
       "    </tr>\n",
       "    <tr>\n",
       "      <th>2010-01-08</th>\n",
       "      <td>129.07</td>\n",
       "      <td>130.92</td>\n",
       "      <td>129.05</td>\n",
       "      <td>130.85</td>\n",
       "      <td>4197105</td>\n",
       "    </tr>\n",
       "    <tr>\n",
       "      <th>2010-01-11</th>\n",
       "      <td>131.06</td>\n",
       "      <td>131.06</td>\n",
       "      <td>128.67</td>\n",
       "      <td>129.48</td>\n",
       "      <td>5731177</td>\n",
       "    </tr>\n",
       "    <tr>\n",
       "      <th>2010-01-12</th>\n",
       "      <td>129.03</td>\n",
       "      <td>131.33</td>\n",
       "      <td>129.00</td>\n",
       "      <td>130.51</td>\n",
       "      <td>8083354</td>\n",
       "    </tr>\n",
       "    <tr>\n",
       "      <th>2010-01-13</th>\n",
       "      <td>130.39</td>\n",
       "      <td>131.12</td>\n",
       "      <td>129.16</td>\n",
       "      <td>130.23</td>\n",
       "      <td>6458302</td>\n",
       "    </tr>\n",
       "    <tr>\n",
       "      <th>2010-01-14</th>\n",
       "      <td>130.55</td>\n",
       "      <td>132.71</td>\n",
       "      <td>129.91</td>\n",
       "      <td>132.31</td>\n",
       "      <td>7114544</td>\n",
       "    </tr>\n",
       "    <tr>\n",
       "      <th>2010-01-15</th>\n",
       "      <td>132.03</td>\n",
       "      <td>132.89</td>\n",
       "      <td>131.09</td>\n",
       "      <td>131.78</td>\n",
       "      <td>8502320</td>\n",
       "    </tr>\n",
       "  </tbody>\n",
       "</table>\n",
       "</div>"
      ],
      "text/plain": [
       "              Open    High     Low   Close   Volume\n",
       "Date                                               \n",
       "2010-01-04  131.18  132.97  130.85  132.45  6155846\n",
       "2010-01-05  131.68  131.85  130.10  130.85  6842471\n",
       "2010-01-06  130.68  131.49  129.81  130.00  5605290\n",
       "2010-01-07  129.87  130.25  128.91  129.55  5840569\n",
       "2010-01-08  129.07  130.92  129.05  130.85  4197105\n",
       "2010-01-11  131.06  131.06  128.67  129.48  5731177\n",
       "2010-01-12  129.03  131.33  129.00  130.51  8083354\n",
       "2010-01-13  130.39  131.12  129.16  130.23  6458302\n",
       "2010-01-14  130.55  132.71  129.91  132.31  7114544\n",
       "2010-01-15  132.03  132.89  131.09  131.78  8502320"
      ]
     },
     "execution_count": 9,
     "metadata": {},
     "output_type": "execute_result"
    }
   ],
   "source": [
    "data.head(10)"
   ]
  },
  {
   "cell_type": "code",
   "execution_count": 10,
   "metadata": {
    "collapsed": true
   },
   "outputs": [],
   "source": [
    "my_stocks = ['IBM','DIS','AMZN']"
   ]
  },
  {
   "cell_type": "code",
   "execution_count": 11,
   "metadata": {
    "collapsed": false
   },
   "outputs": [
    {
     "name": "stdout",
     "output_type": "stream",
     "text": [
      "IBM\n",
      "DIS\n",
      "AMZN\n"
     ]
    }
   ],
   "source": [
    "for i in range(3):\n",
    "    print(my_stocks[i])"
   ]
  },
  {
   "cell_type": "code",
   "execution_count": 13,
   "metadata": {
    "collapsed": false
   },
   "outputs": [
    {
     "name": "stdout",
     "output_type": "stream",
     "text": [
      "              Open    High     Low   Close   Volume\n",
      "Date                                               \n",
      "2010-01-04  131.18  132.97  130.85  132.45  6155846\n",
      "2010-01-05  131.68  131.85  130.10  130.85  6842471\n",
      "2010-01-06  130.68  131.49  129.81  130.00  5605290\n",
      "2010-01-07  129.87  130.25  128.91  129.55  5840569\n",
      "2010-01-08  129.07  130.92  129.05  130.85  4197105\n",
      "             Open   High    Low  Close    Volume\n",
      "Date                                            \n",
      "2010-01-04  32.50  32.75  31.87  32.07  13700385\n",
      "2010-01-05  32.07  32.16  31.70  31.99  10307697\n",
      "2010-01-06  31.90  32.00  31.68  31.82  10709499\n",
      "2010-01-07  31.77  31.86  31.54  31.83   8202059\n",
      "2010-01-08  31.66  31.94  31.53  31.88   7657457\n",
      "              Open    High     Low   Close    Volume\n",
      "Date                                                \n",
      "2010-01-04  136.25  136.61  133.14  133.90   7600543\n",
      "2010-01-05  133.43  135.48  131.81  134.69   8856456\n",
      "2010-01-06  134.60  134.73  131.65  132.25   7180977\n",
      "2010-01-07  132.01  132.32  128.80  130.00  11030124\n",
      "2010-01-08  130.56  133.68  129.03  133.52   9833829\n"
     ]
    }
   ],
   "source": [
    "for i in range(len(my_stocks)):\n",
    "    data = web.DataReader(my_stocks[i],\"google\")\n",
    "    print(data.head(5))"
   ]
  },
  {
   "cell_type": "code",
   "execution_count": 14,
   "metadata": {
    "collapsed": false
   },
   "outputs": [
    {
     "data": {
      "text/html": [
       "<div>\n",
       "<table border=\"1\" class=\"dataframe\">\n",
       "  <thead>\n",
       "    <tr style=\"text-align: right;\">\n",
       "      <th></th>\n",
       "      <th>Open</th>\n",
       "      <th>High</th>\n",
       "      <th>Low</th>\n",
       "      <th>Close</th>\n",
       "      <th>Volume</th>\n",
       "    </tr>\n",
       "    <tr>\n",
       "      <th>Date</th>\n",
       "      <th></th>\n",
       "      <th></th>\n",
       "      <th></th>\n",
       "      <th></th>\n",
       "      <th></th>\n",
       "    </tr>\n",
       "  </thead>\n",
       "  <tbody>\n",
       "    <tr>\n",
       "      <th>2010-01-04</th>\n",
       "      <td>136.25</td>\n",
       "      <td>136.61</td>\n",
       "      <td>133.14</td>\n",
       "      <td>133.90</td>\n",
       "      <td>7600543</td>\n",
       "    </tr>\n",
       "    <tr>\n",
       "      <th>2010-01-05</th>\n",
       "      <td>133.43</td>\n",
       "      <td>135.48</td>\n",
       "      <td>131.81</td>\n",
       "      <td>134.69</td>\n",
       "      <td>8856456</td>\n",
       "    </tr>\n",
       "    <tr>\n",
       "      <th>2010-01-06</th>\n",
       "      <td>134.60</td>\n",
       "      <td>134.73</td>\n",
       "      <td>131.65</td>\n",
       "      <td>132.25</td>\n",
       "      <td>7180977</td>\n",
       "    </tr>\n",
       "    <tr>\n",
       "      <th>2010-01-07</th>\n",
       "      <td>132.01</td>\n",
       "      <td>132.32</td>\n",
       "      <td>128.80</td>\n",
       "      <td>130.00</td>\n",
       "      <td>11030124</td>\n",
       "    </tr>\n",
       "    <tr>\n",
       "      <th>2010-01-08</th>\n",
       "      <td>130.56</td>\n",
       "      <td>133.68</td>\n",
       "      <td>129.03</td>\n",
       "      <td>133.52</td>\n",
       "      <td>9833829</td>\n",
       "    </tr>\n",
       "  </tbody>\n",
       "</table>\n",
       "</div>"
      ],
      "text/plain": [
       "              Open    High     Low   Close    Volume\n",
       "Date                                                \n",
       "2010-01-04  136.25  136.61  133.14  133.90   7600543\n",
       "2010-01-05  133.43  135.48  131.81  134.69   8856456\n",
       "2010-01-06  134.60  134.73  131.65  132.25   7180977\n",
       "2010-01-07  132.01  132.32  128.80  130.00  11030124\n",
       "2010-01-08  130.56  133.68  129.03  133.52   9833829"
      ]
     },
     "execution_count": 14,
     "metadata": {},
     "output_type": "execute_result"
    }
   ],
   "source": [
    "data.head()"
   ]
  },
  {
   "cell_type": "code",
   "execution_count": 15,
   "metadata": {
    "collapsed": false
   },
   "outputs": [
    {
     "data": {
      "text/plain": [
       "Date\n",
       "2010-01-04     136.25\n",
       "2010-01-05     133.43\n",
       "2010-01-06     134.60\n",
       "2010-01-07     132.01\n",
       "2010-01-08     130.56\n",
       "2010-01-11     132.62\n",
       "2010-01-12     128.99\n",
       "2010-01-13     127.90\n",
       "2010-01-14     129.14\n",
       "2010-01-15     129.18\n",
       "2010-01-19     126.20\n",
       "2010-01-20     127.13\n",
       "2010-01-21     127.26\n",
       "2010-01-22     125.60\n",
       "2010-01-25     122.10\n",
       "2010-01-26     120.56\n",
       "2010-01-27     121.03\n",
       "2010-01-28     124.43\n",
       "2010-01-29     129.77\n",
       "2010-02-01     123.18\n",
       "2010-02-02     118.79\n",
       "2010-02-03     117.12\n",
       "2010-02-04     118.64\n",
       "2010-02-05     115.88\n",
       "2010-02-08     119.38\n",
       "2010-02-09     118.20\n",
       "2010-02-10     118.00\n",
       "2010-02-11     117.21\n",
       "2010-02-12     118.99\n",
       "2010-02-16     120.06\n",
       "               ...   \n",
       "2017-06-13     977.99\n",
       "2017-06-14     988.59\n",
       "2017-06-15     958.70\n",
       "2017-06-16     996.00\n",
       "2017-06-19    1017.00\n",
       "2017-06-20     998.00\n",
       "2017-06-21     998.70\n",
       "2017-06-22    1002.23\n",
       "2017-06-23    1002.54\n",
       "2017-06-26    1008.50\n",
       "2017-06-27     990.69\n",
       "2017-06-28     978.55\n",
       "2017-06-29     979.00\n",
       "2017-06-30     980.12\n",
       "2017-07-03     972.79\n",
       "2017-07-05     961.53\n",
       "2017-07-06     964.66\n",
       "2017-07-07     969.55\n",
       "2017-07-10     985.00\n",
       "2017-07-11     993.00\n",
       "2017-07-12    1000.65\n",
       "2017-07-13    1004.62\n",
       "2017-07-14    1002.40\n",
       "2017-07-17    1004.69\n",
       "2017-07-18    1006.00\n",
       "2017-07-19    1025.00\n",
       "2017-07-20    1031.59\n",
       "2017-07-21    1021.28\n",
       "2017-07-24    1028.34\n",
       "2017-07-25    1038.05\n",
       "Name: Open, dtype: float64"
      ]
     },
     "execution_count": 15,
     "metadata": {},
     "output_type": "execute_result"
    }
   ],
   "source": [
    "data[\"Open\"]"
   ]
  },
  {
   "cell_type": "code",
   "execution_count": 16,
   "metadata": {
    "collapsed": false
   },
   "outputs": [
    {
     "data": {
      "text/plain": [
       "Date\n",
       "2010-01-04    136.25\n",
       "2010-01-05    133.43\n",
       "2010-01-06    134.60\n",
       "2010-01-07    132.01\n",
       "2010-01-08    130.56\n",
       "Name: Open, dtype: float64"
      ]
     },
     "execution_count": 16,
     "metadata": {},
     "output_type": "execute_result"
    }
   ],
   "source": [
    "data[\"Open\"].head()"
   ]
  },
  {
   "cell_type": "code",
   "execution_count": 17,
   "metadata": {
    "collapsed": false
   },
   "outputs": [
    {
     "data": {
      "text/plain": [
       "count    1902.000000\n",
       "mean      380.111767\n",
       "std       236.142138\n",
       "min       105.920000\n",
       "25%       198.270000\n",
       "50%       302.075000\n",
       "75%       523.725000\n",
       "max      1038.050000\n",
       "Name: Open, dtype: float64"
      ]
     },
     "execution_count": 17,
     "metadata": {},
     "output_type": "execute_result"
    }
   ],
   "source": [
    "data[\"Open\"].describe()"
   ]
  },
  {
   "cell_type": "code",
   "execution_count": 18,
   "metadata": {
    "collapsed": false
   },
   "outputs": [
    {
     "data": {
      "text/html": [
       "<div>\n",
       "<table border=\"1\" class=\"dataframe\">\n",
       "  <thead>\n",
       "    <tr style=\"text-align: right;\">\n",
       "      <th></th>\n",
       "      <th>Open</th>\n",
       "      <th>High</th>\n",
       "      <th>Low</th>\n",
       "      <th>Close</th>\n",
       "      <th>Volume</th>\n",
       "    </tr>\n",
       "  </thead>\n",
       "  <tbody>\n",
       "    <tr>\n",
       "      <th>count</th>\n",
       "      <td>1902.000000</td>\n",
       "      <td>1902.000000</td>\n",
       "      <td>1902.000000</td>\n",
       "      <td>1902.000000</td>\n",
       "      <td>1.902000e+03</td>\n",
       "    </tr>\n",
       "    <tr>\n",
       "      <th>mean</th>\n",
       "      <td>380.111767</td>\n",
       "      <td>383.863328</td>\n",
       "      <td>376.013139</td>\n",
       "      <td>380.176751</td>\n",
       "      <td>4.526623e+06</td>\n",
       "    </tr>\n",
       "    <tr>\n",
       "      <th>std</th>\n",
       "      <td>236.142138</td>\n",
       "      <td>237.413377</td>\n",
       "      <td>234.454167</td>\n",
       "      <td>236.060642</td>\n",
       "      <td>3.016636e+06</td>\n",
       "    </tr>\n",
       "    <tr>\n",
       "      <th>min</th>\n",
       "      <td>105.920000</td>\n",
       "      <td>111.290000</td>\n",
       "      <td>105.800000</td>\n",
       "      <td>108.610000</td>\n",
       "      <td>9.864350e+05</td>\n",
       "    </tr>\n",
       "    <tr>\n",
       "      <th>25%</th>\n",
       "      <td>198.270000</td>\n",
       "      <td>201.097500</td>\n",
       "      <td>195.227500</td>\n",
       "      <td>198.370000</td>\n",
       "      <td>2.734006e+06</td>\n",
       "    </tr>\n",
       "    <tr>\n",
       "      <th>50%</th>\n",
       "      <td>302.075000</td>\n",
       "      <td>304.530000</td>\n",
       "      <td>297.370000</td>\n",
       "      <td>301.125000</td>\n",
       "      <td>3.762743e+06</td>\n",
       "    </tr>\n",
       "    <tr>\n",
       "      <th>75%</th>\n",
       "      <td>523.725000</td>\n",
       "      <td>529.457500</td>\n",
       "      <td>516.842500</td>\n",
       "      <td>523.655000</td>\n",
       "      <td>5.305514e+06</td>\n",
       "    </tr>\n",
       "    <tr>\n",
       "      <th>max</th>\n",
       "      <td>1038.050000</td>\n",
       "      <td>1043.330000</td>\n",
       "      <td>1032.480000</td>\n",
       "      <td>1039.870000</td>\n",
       "      <td>4.242107e+07</td>\n",
       "    </tr>\n",
       "  </tbody>\n",
       "</table>\n",
       "</div>"
      ],
      "text/plain": [
       "              Open         High          Low        Close        Volume\n",
       "count  1902.000000  1902.000000  1902.000000  1902.000000  1.902000e+03\n",
       "mean    380.111767   383.863328   376.013139   380.176751  4.526623e+06\n",
       "std     236.142138   237.413377   234.454167   236.060642  3.016636e+06\n",
       "min     105.920000   111.290000   105.800000   108.610000  9.864350e+05\n",
       "25%     198.270000   201.097500   195.227500   198.370000  2.734006e+06\n",
       "50%     302.075000   304.530000   297.370000   301.125000  3.762743e+06\n",
       "75%     523.725000   529.457500   516.842500   523.655000  5.305514e+06\n",
       "max    1038.050000  1043.330000  1032.480000  1039.870000  4.242107e+07"
      ]
     },
     "execution_count": 18,
     "metadata": {},
     "output_type": "execute_result"
    }
   ],
   "source": [
    "data.describe()"
   ]
  },
  {
   "cell_type": "code",
   "execution_count": 19,
   "metadata": {
    "collapsed": true
   },
   "outputs": [],
   "source": [
    "import matplotlib.pyplot as plt"
   ]
  },
  {
   "cell_type": "code",
   "execution_count": 21,
   "metadata": {
    "collapsed": false
   },
   "outputs": [
    {
     "data": {
      "image/png": "[encoded data removed]",
      "text/plain": [
       "<matplotlib.figure.Figure at 0xc461550>"
      ]
     },
     "metadata": {},
     "output_type": "display_data"
    }
   ],
   "source": [
    "plt.plot(data[\"Open\"])\n",
    "plt.plot(data['High'])\n",
    "plt.show()"
   ]
  },
  {
   "cell_type": "code",
   "execution_count": null,
   "metadata": {
    "collapsed": true
   },
   "outputs": [],
   "source": []
  }
 ],
 "metadata": {
  "kernelspec": {
   "display_name": "Python 2",
   "language": "python",
   "name": "python2"
  },
  "language_info": {
   "codemirror_mode": {
    "name": "ipython",
    "version": 2
   },
   "file_extension": ".py",
   "mimetype": "text/x-python",
   "name": "python",
   "nbconvert_exporter": "python",
   "pygments_lexer": "ipython2",
   "version": "2.7.13"
  }
 },
 "nbformat": 4,
 "nbformat_minor": 2
}
