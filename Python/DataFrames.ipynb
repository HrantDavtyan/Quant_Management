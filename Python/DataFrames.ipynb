{
 "cells": [
  {
   "cell_type": "markdown",
   "metadata": {},
   "source": [
    "# DataFrames\n",
    "\n",
    "We have already experienced an object in Python called DataFrame. DataFrames are not built-in objects: they appeared once we imported data using pandas_datareader. It turns out there is a popular library called **pandas** which is also responsible for dealing with DataFrames. pandas_datareader is based on pandas, thus, it gets stock data and saves inside a dataframe.\n",
    "\n",
    "To import pandas library we again (as always) run the following command in Jupyter Notebook (assuming pandas is already installed, which is the case if you used Anaconda):\n",
    "\n",
    "```\n",
    "import pandas\n",
    "```\n",
    "\n",
    "As you know, whenever you want to call a specific function residing inside a library, you need to use its name. This is why we can use the **\"as\"** syntax to give a short name to the library as follows:\n",
    "\n",
    "```\n",
    "import pandas as pd\n",
    "```\n",
    "\n",
    "We covered **head(), tail() and describ()** functions that are available for dataframes, but there are many more to come.\n",
    "\n",
    "### DataFrame functions covered\n",
    "\n",
    "- corr() - creates the correlation matrix for the dataframe varaibles and presents it inside a dataframe.\n",
    "- cov() - creates the variance-covariance matrix for the dataframe varaibles and presents it inside a dataframe.\n",
    "- mean() - calculates the means of each column for the dataframe\n",
    "- mode() - calculates the mode of each column for the dataframe\n",
    "- median() - calculates the median of each column for the dataframe\n",
    "\n",
    "Please note, that the functinos above can be also separately applied to separate columns of the DataFrame.\n",
    "\n",
    "### Pandas functinos covered\n",
    "\n",
    "- read_csv() - reads a CSV file from your computer to DataFrame\n",
    "- to_csv() - saves a DataFrame to a CSV file\n",
    "- read_excel() - reads an Excel file from your computer to DataFrame\n",
    "- to_excel - saves a DataFrame to an Excel file"
   ]
  },
  {
   "cell_type": "code",
   "execution_count": 1,
   "metadata": {
    "collapsed": true
   },
   "outputs": [],
   "source": [
    "import pandas as pd"
   ]
  },
  {
   "cell_type": "code",
   "execution_count": 3,
   "metadata": {
    "collapsed": false
   },
   "outputs": [],
   "source": [
    "data = pd.read_csv('Training.csv')"
   ]
  },
  {
   "cell_type": "code",
   "execution_count": 4,
   "metadata": {
    "collapsed": false
   },
   "outputs": [
    {
     "data": {
      "text/html": [
       "<div>\n",
       "<table border=\"1\" class=\"dataframe\">\n",
       "  <thead>\n",
       "    <tr style=\"text-align: right;\">\n",
       "      <th></th>\n",
       "      <th>ID</th>\n",
       "      <th>Age</th>\n",
       "      <th>Education</th>\n",
       "      <th>Years_Employed</th>\n",
       "      <th>Income</th>\n",
       "    </tr>\n",
       "  </thead>\n",
       "  <tbody>\n",
       "    <tr>\n",
       "      <th>0</th>\n",
       "      <td>1</td>\n",
       "      <td>41</td>\n",
       "      <td>1</td>\n",
       "      <td>6</td>\n",
       "      <td>19</td>\n",
       "    </tr>\n",
       "    <tr>\n",
       "      <th>1</th>\n",
       "      <td>2</td>\n",
       "      <td>47</td>\n",
       "      <td>0</td>\n",
       "      <td>26</td>\n",
       "      <td>100</td>\n",
       "    </tr>\n",
       "    <tr>\n",
       "      <th>2</th>\n",
       "      <td>3</td>\n",
       "      <td>33</td>\n",
       "      <td>1</td>\n",
       "      <td>10</td>\n",
       "      <td>57</td>\n",
       "    </tr>\n",
       "    <tr>\n",
       "      <th>3</th>\n",
       "      <td>4</td>\n",
       "      <td>29</td>\n",
       "      <td>1</td>\n",
       "      <td>4</td>\n",
       "      <td>19</td>\n",
       "    </tr>\n",
       "    <tr>\n",
       "      <th>4</th>\n",
       "      <td>5</td>\n",
       "      <td>47</td>\n",
       "      <td>0</td>\n",
       "      <td>31</td>\n",
       "      <td>253</td>\n",
       "    </tr>\n",
       "  </tbody>\n",
       "</table>\n",
       "</div>"
      ],
      "text/plain": [
       "   ID  Age  Education  Years_Employed  Income\n",
       "0   1   41          1               6      19\n",
       "1   2   47          0              26     100\n",
       "2   3   33          1              10      57\n",
       "3   4   29          1               4      19\n",
       "4   5   47          0              31     253"
      ]
     },
     "execution_count": 4,
     "metadata": {},
     "output_type": "execute_result"
    }
   ],
   "source": [
    "data.head()"
   ]
  },
  {
   "cell_type": "code",
   "execution_count": 5,
   "metadata": {
    "collapsed": false
   },
   "outputs": [
    {
     "data": {
      "text/html": [
       "<div>\n",
       "<table border=\"1\" class=\"dataframe\">\n",
       "  <thead>\n",
       "    <tr style=\"text-align: right;\">\n",
       "      <th></th>\n",
       "      <th>ID</th>\n",
       "      <th>Age</th>\n",
       "      <th>Education</th>\n",
       "      <th>Years_Employed</th>\n",
       "      <th>Income</th>\n",
       "    </tr>\n",
       "  </thead>\n",
       "  <tbody>\n",
       "    <tr>\n",
       "      <th>ID</th>\n",
       "      <td>1.000000</td>\n",
       "      <td>0.041387</td>\n",
       "      <td>-0.087519</td>\n",
       "      <td>-0.002026</td>\n",
       "      <td>-0.044262</td>\n",
       "    </tr>\n",
       "    <tr>\n",
       "      <th>Age</th>\n",
       "      <td>0.041387</td>\n",
       "      <td>1.000000</td>\n",
       "      <td>-0.001689</td>\n",
       "      <td>0.547497</td>\n",
       "      <td>0.489733</td>\n",
       "    </tr>\n",
       "    <tr>\n",
       "      <th>Education</th>\n",
       "      <td>-0.087519</td>\n",
       "      <td>-0.001689</td>\n",
       "      <td>1.000000</td>\n",
       "      <td>-0.165918</td>\n",
       "      <td>0.215851</td>\n",
       "    </tr>\n",
       "    <tr>\n",
       "      <th>Years_Employed</th>\n",
       "      <td>-0.002026</td>\n",
       "      <td>0.547497</td>\n",
       "      <td>-0.165918</td>\n",
       "      <td>1.000000</td>\n",
       "      <td>0.687851</td>\n",
       "    </tr>\n",
       "    <tr>\n",
       "      <th>Income</th>\n",
       "      <td>-0.044262</td>\n",
       "      <td>0.489733</td>\n",
       "      <td>0.215851</td>\n",
       "      <td>0.687851</td>\n",
       "      <td>1.000000</td>\n",
       "    </tr>\n",
       "  </tbody>\n",
       "</table>\n",
       "</div>"
      ],
      "text/plain": [
       "                      ID       Age  Education  Years_Employed    Income\n",
       "ID              1.000000  0.041387  -0.087519       -0.002026 -0.044262\n",
       "Age             0.041387  1.000000  -0.001689        0.547497  0.489733\n",
       "Education      -0.087519 -0.001689   1.000000       -0.165918  0.215851\n",
       "Years_Employed -0.002026  0.547497  -0.165918        1.000000  0.687851\n",
       "Income         -0.044262  0.489733   0.215851        0.687851  1.000000"
      ]
     },
     "execution_count": 5,
     "metadata": {},
     "output_type": "execute_result"
    }
   ],
   "source": [
    "data.corr()"
   ]
  },
  {
   "cell_type": "code",
   "execution_count": 6,
   "metadata": {
    "collapsed": false
   },
   "outputs": [
    {
     "data": {
      "text/html": [
       "<div>\n",
       "<table border=\"1\" class=\"dataframe\">\n",
       "  <thead>\n",
       "    <tr style=\"text-align: right;\">\n",
       "      <th></th>\n",
       "      <th>ID</th>\n",
       "      <th>Age</th>\n",
       "      <th>Education</th>\n",
       "      <th>Years_Employed</th>\n",
       "      <th>Income</th>\n",
       "    </tr>\n",
       "  </thead>\n",
       "  <tbody>\n",
       "    <tr>\n",
       "      <th>ID</th>\n",
       "      <td>20875.000000</td>\n",
       "      <td>47.849699</td>\n",
       "      <td>-11.696393</td>\n",
       "      <td>-2.049098</td>\n",
       "      <td>-221.607214</td>\n",
       "    </tr>\n",
       "    <tr>\n",
       "      <th>Age</th>\n",
       "      <td>47.849699</td>\n",
       "      <td>64.032321</td>\n",
       "      <td>-0.012505</td>\n",
       "      <td>30.662381</td>\n",
       "      <td>135.798573</td>\n",
       "    </tr>\n",
       "    <tr>\n",
       "      <th>Education</th>\n",
       "      <td>-11.696393</td>\n",
       "      <td>-0.012505</td>\n",
       "      <td>0.855611</td>\n",
       "      <td>-1.074128</td>\n",
       "      <td>6.918758</td>\n",
       "    </tr>\n",
       "    <tr>\n",
       "      <th>Years_Employed</th>\n",
       "      <td>-2.049098</td>\n",
       "      <td>30.662381</td>\n",
       "      <td>-1.074128</td>\n",
       "      <td>48.983323</td>\n",
       "      <td>166.822421</td>\n",
       "    </tr>\n",
       "    <tr>\n",
       "      <th>Income</th>\n",
       "      <td>-221.607214</td>\n",
       "      <td>135.798573</td>\n",
       "      <td>6.918758</td>\n",
       "      <td>166.822421</td>\n",
       "      <td>1200.803703</td>\n",
       "    </tr>\n",
       "  </tbody>\n",
       "</table>\n",
       "</div>"
      ],
      "text/plain": [
       "                          ID         Age  Education  Years_Employed  \\\n",
       "ID              20875.000000   47.849699 -11.696393       -2.049098   \n",
       "Age                47.849699   64.032321  -0.012505       30.662381   \n",
       "Education         -11.696393   -0.012505   0.855611       -1.074128   \n",
       "Years_Employed     -2.049098   30.662381  -1.074128       48.983323   \n",
       "Income           -221.607214  135.798573   6.918758      166.822421   \n",
       "\n",
       "                     Income  \n",
       "ID              -221.607214  \n",
       "Age              135.798573  \n",
       "Education          6.918758  \n",
       "Years_Employed   166.822421  \n",
       "Income          1200.803703  "
      ]
     },
     "execution_count": 6,
     "metadata": {},
     "output_type": "execute_result"
    }
   ],
   "source": [
    "data.cov()"
   ]
  },
  {
   "cell_type": "code",
   "execution_count": 7,
   "metadata": {
    "collapsed": false
   },
   "outputs": [
    {
     "data": {
      "text/plain": [
       "ID                250.500\n",
       "Age                35.088\n",
       "Education           0.710\n",
       "Years_Employed      8.738\n",
       "Income             46.148\n",
       "dtype: float64"
      ]
     },
     "execution_count": 7,
     "metadata": {},
     "output_type": "execute_result"
    }
   ],
   "source": [
    "data.mean()"
   ]
  },
  {
   "cell_type": "code",
   "execution_count": 8,
   "metadata": {
    "collapsed": false
   },
   "outputs": [
    {
     "data": {
      "text/html": [
       "<div>\n",
       "<table border=\"1\" class=\"dataframe\">\n",
       "  <thead>\n",
       "    <tr style=\"text-align: right;\">\n",
       "      <th></th>\n",
       "      <th>ID</th>\n",
       "      <th>Age</th>\n",
       "      <th>Education</th>\n",
       "      <th>Years_Employed</th>\n",
       "      <th>Income</th>\n",
       "    </tr>\n",
       "  </thead>\n",
       "  <tbody>\n",
       "    <tr>\n",
       "      <th>0</th>\n",
       "      <td>NaN</td>\n",
       "      <td>29</td>\n",
       "      <td>0</td>\n",
       "      <td>0</td>\n",
       "      <td>21</td>\n",
       "    </tr>\n",
       "  </tbody>\n",
       "</table>\n",
       "</div>"
      ],
      "text/plain": [
       "   ID  Age  Education  Years_Employed  Income\n",
       "0 NaN   29          0               0      21"
      ]
     },
     "execution_count": 8,
     "metadata": {},
     "output_type": "execute_result"
    }
   ],
   "source": [
    "data.mode()"
   ]
  },
  {
   "cell_type": "code",
   "execution_count": 9,
   "metadata": {
    "collapsed": false
   },
   "outputs": [
    {
     "data": {
      "text/plain": [
       "ID                250.5\n",
       "Age                35.0\n",
       "Education           0.0\n",
       "Years_Employed      7.0\n",
       "Income             34.0\n",
       "dtype: float64"
      ]
     },
     "execution_count": 9,
     "metadata": {},
     "output_type": "execute_result"
    }
   ],
   "source": [
    "data.median()"
   ]
  },
  {
   "cell_type": "code",
   "execution_count": 10,
   "metadata": {
    "collapsed": true
   },
   "outputs": [],
   "source": [
    "my_corr = data.corr()"
   ]
  },
  {
   "cell_type": "code",
   "execution_count": 11,
   "metadata": {
    "collapsed": true
   },
   "outputs": [],
   "source": [
    "my_corr.to_csv(\"correlation.csv\")"
   ]
  }
 ],
 "metadata": {
  "anaconda-cloud": {},
  "kernelspec": {
   "display_name": "Python 2",
   "language": "python",
   "name": "python2"
  },
  "language_info": {
   "codemirror_mode": {
    "name": "ipython",
    "version": 2
   },
   "file_extension": ".py",
   "mimetype": "text/x-python",
   "name": "python",
   "nbconvert_exporter": "python",
   "pygments_lexer": "ipython2",
   "version": "2.7.13"
  }
 },
 "nbformat": 4,
 "nbformat_minor": 1
}
