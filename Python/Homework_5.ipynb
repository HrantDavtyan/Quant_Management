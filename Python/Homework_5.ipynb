{
 "cells": [
  {
   "cell_type": "markdown",
   "metadata": {},
   "source": [
    "# Homework 5\n",
    "\n",
    "### Problem 1 (4 points)\n",
    "\n",
    "It is possible to get several indicators' data trough quandl by just typing their names inside a list and passing as an argument to the **get()** function from **quandl** library as follows:\n",
    "\n",
    "```\n",
    "data = quandl.get([\"FRED/NROUST\",\"FRED/NROU\"])\n",
    "```\n",
    "where NROUST stands for the Natural Rate of Unemployment Short-term, and NROU stands for the Natural Rate of Unemployment (long-term).\n",
    "\n",
    "1. Use quandl, to get GDP data on Germany (FRED/DEURGDPQDSNAQ) and on Italy (FRED/ITARGDPQDSNAQ).\n",
    "2. Use quandl, to get GDP data on Cambodia (FRED/MKTGDPCHA646NWDB) and on Switzerland (FRED/MKTGDPKHA646NWDB).\n",
    "3. For both of the above datasets/dataframes, create correlation matrix and save it to a an Excel file.\n",
    "4. Open those 2 Excel files and use Conditional Formatting to Highlight correlations.\n",
    "\n",
    "*Note: each of the points above is worth one mark*\n",
    "\n",
    "### Problem 2 (4 points)\n",
    "\n",
    "Change the Jupyter Notebook section to Markdown (given in the dropdown menu from the panel above) to be able to write a text and not a code inside the Notebook.\n",
    "\n",
    "Then, answer the following questions:\n",
    "\n",
    "1. Whenever there are nested IFs, one may consider using VLOOKUP function. For what purpose would you use the Approximate (TRUE) match rather than the Exact (FALSE) option?\n",
    "2. What are the disadvantages of VLOOKUP and how can they be \"corrected\"?\n",
    "3. How the while and for loops differ and when you may apply while instead of for?\n",
    "4. What is the difference between **return** and **print** inside a function defined in Python?\n",
    "\n",
    "*Note: each of the points above is worth one mark*"
   ]
  }
 ],
 "metadata": {
  "kernelspec": {
   "display_name": "Python 2",
   "language": "python",
   "name": "python2"
  },
  "language_info": {
   "codemirror_mode": {
    "name": "ipython",
    "version": 2
   },
   "file_extension": ".py",
   "mimetype": "text/x-python",
   "name": "python",
   "nbconvert_exporter": "python",
   "pygments_lexer": "ipython2",
   "version": "2.7.13"
  }
 },
 "nbformat": 4,
 "nbformat_minor": 2
}
