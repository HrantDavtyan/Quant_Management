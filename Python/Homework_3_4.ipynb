{
  "cells": [
    {
      "cell_type": "markdown",
      "source": [
        "# Homework 3 and 4\n",
        "\n",
        "**This notebook includes preliminary Homework which will be updated (new problems will be added) and upgraded (existing problems might be slightly tuned) after covering new material on 27/July/2017.*\n",
        "\n",
        "- **Problem 1 - Supperify**\n",
        "  \n",
        "  For this problem create a list of 5 strings (e.g. a list consisting of words like men, women, cool etc.). Create a **for** loop that will iterate over the elements of the list and print each of them after adding the *prefix* super: e.g. superman, superwomen, supercool etc.\n",
        "  \n",
        "- **Problem 2 - Stockplotter**\n",
        "\n  Create a list of 5 stocks. Use pandas_datareader to download the data on those stocks and plot the opening price for all 5 of them inside one single plot."
      ],
      "metadata": {}
    }
  ],
  "metadata": {
    "kernelspec": {
      "name": "python2",
      "language": "python",
      "display_name": "Python 2"
    },
    "kernel_info": {
      "name": "python2"
    },
    "language_info": {
      "mimetype": "text/x-python",
      "nbconvert_exporter": "python",
      "name": "python",
      "pygments_lexer": "ipython2",
      "version": "2.7.12",
      "file_extension": ".py",
      "codemirror_mode": {
        "version": 2,
        "name": "ipython"
      }
    }
  },
  "nbformat": 4,
  "nbformat_minor": 4
}